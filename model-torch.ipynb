{
 "cells": [
  {
   "cell_type": "code",
   "execution_count": 1,
   "metadata": {},
   "outputs": [],
   "source": [
    "import torch\n",
    "from ConditionalImitationLearningNetwork import ImitationLearningNetwork_Training\n",
    "from CarlaDatasetLoader import get_custom_dataloader, get_custom_dataset\n",
    "from utils import save_model, load_model, jit_compile_model\n",
    "from torchvision import transforms as transforms\n",
    "import matplotlib.pyplot as plt\n",
    "import numpy as np"
   ]
  },
  {
   "cell_type": "code",
   "execution_count": 2,
   "metadata": {},
   "outputs": [],
   "source": [
    "dl = get_custom_dataloader()\n",
    "for index, (img, speed, target_vec, mask_vec) in enumerate(dl):\n",
    "    pass\n",
    "    # img1 = np.asarray( img[1].permute(  1, 2, 0), dtype= np.float32) / 255.1\n",
    "    # plt.imshow(img1 )\n",
    "    # plt.show()\n",
    "    \n"
   ]
  },
  {
   "cell_type": "code",
   "execution_count": 3,
   "metadata": {},
   "outputs": [],
   "source": [
    "#img, speed, commands_masks = torch.randn((20, 3, 88, 200)), torch.randn(20, 1), get_batch_mask(torch.randint(0, 3, (20,1)))\n",
    "#model = ImitationLearningNetwork_Training()\n",
    "#x = model(img, speed)"
   ]
  },
  {
   "cell_type": "code",
   "execution_count": 4,
   "metadata": {},
   "outputs": [],
   "source": [
    "# training optimisation:\n",
    "#     torch.backends.cudnn.benchmark = True -> cudnn optimizer(gpu)\n",
    "#     @torch.jit.script\n",
    "#     optimizer.zero_grad(set_to_none=True) ?\n",
    "#     torch.no_grad -> inference\n",
    "#     device=cuda\n",
    "#     enable amp, x8 -> tpu\n",
    "#     torch.nn.DataParallel"
   ]
  },
  {
   "cell_type": "code",
   "execution_count": 5,
   "metadata": {},
   "outputs": [],
   "source": [
    "# import time\n",
    "# model = ImitationLearningNetwork_Training()\n",
    "# start = time.time()\n",
    "# preds = model(img, speed.reshape(-1,1))\n",
    "# time.time()-start"
   ]
  },
  {
   "cell_type": "code",
   "execution_count": 6,
   "metadata": {},
   "outputs": [],
   "source": [
    "# #model = jit_compile_model(model)\n"
   ]
  },
  {
   "cell_type": "code",
   "execution_count": null,
   "metadata": {},
   "outputs": [],
   "source": []
  },
  {
   "cell_type": "code",
   "execution_count": 7,
   "metadata": {},
   "outputs": [],
   "source": [
    "model = ImitationLearningNetwork_Training()\n"
   ]
  },
  {
   "cell_type": "code",
   "execution_count": 8,
   "metadata": {},
   "outputs": [],
   "source": [
    "model = jit_compile_model(model)"
   ]
  },
  {
   "cell_type": "code",
   "execution_count": 24,
   "metadata": {},
   "outputs": [
    {
     "data": {
      "text/plain": [
       "tensor([[[ 0.0212,  0.0233, -0.0163],\n",
       "         [ 0.0200,  0.0233, -0.0162],\n",
       "         [ 0.0255,  0.0232, -0.0167],\n",
       "         [ 0.0254,  0.0231, -0.0166],\n",
       "         [ 0.0195,  0.0232, -0.0162],\n",
       "         [ 0.0225,  0.0232, -0.0165],\n",
       "         [ 0.0198,  0.0234, -0.0163],\n",
       "         [ 0.0198,  0.0233, -0.0162],\n",
       "         [ 0.0200,  0.0233, -0.0162],\n",
       "         [ 0.0193,  0.0233, -0.0162],\n",
       "         [ 0.0199,  0.0234, -0.0163],\n",
       "         [ 0.0200,  0.0235, -0.0162],\n",
       "         [ 0.0195,  0.0231, -0.0161],\n",
       "         [ 0.0194,  0.0232, -0.0162],\n",
       "         [ 0.0257,  0.0231, -0.0166],\n",
       "         [ 0.0228,  0.0232, -0.0165],\n",
       "         [ 0.0188,  0.0229, -0.0160],\n",
       "         [ 0.0193,  0.0232, -0.0163],\n",
       "         [ 0.0194,  0.0232, -0.0162],\n",
       "         [ 0.0199,  0.0234, -0.0162],\n",
       "         [ 0.0194,  0.0232, -0.0162],\n",
       "         [ 0.0194,  0.0231, -0.0162],\n",
       "         [ 0.0189,  0.0229, -0.0161],\n",
       "         [ 0.0198,  0.0234, -0.0163]],\n",
       "\n",
       "        [[ 0.0055,  0.0643,  0.0330],\n",
       "         [ 0.0053,  0.0644,  0.0330],\n",
       "         [ 0.0047,  0.0642,  0.0330],\n",
       "         [ 0.0045,  0.0642,  0.0330],\n",
       "         [ 0.0052,  0.0643,  0.0326],\n",
       "         [ 0.0054,  0.0643,  0.0329],\n",
       "         [ 0.0052,  0.0644,  0.0330],\n",
       "         [ 0.0053,  0.0645,  0.0329],\n",
       "         [ 0.0053,  0.0644,  0.0330],\n",
       "         [ 0.0053,  0.0642,  0.0327],\n",
       "         [ 0.0054,  0.0644,  0.0330],\n",
       "         [ 0.0053,  0.0644,  0.0329],\n",
       "         [ 0.0052,  0.0641,  0.0326],\n",
       "         [ 0.0052,  0.0642,  0.0325],\n",
       "         [ 0.0047,  0.0641,  0.0329],\n",
       "         [ 0.0052,  0.0643,  0.0330],\n",
       "         [ 0.0046,  0.0647,  0.0322],\n",
       "         [ 0.0053,  0.0643,  0.0326],\n",
       "         [ 0.0051,  0.0642,  0.0327],\n",
       "         [ 0.0053,  0.0644,  0.0330],\n",
       "         [ 0.0052,  0.0642,  0.0326],\n",
       "         [ 0.0052,  0.0643,  0.0326],\n",
       "         [ 0.0048,  0.0645,  0.0321],\n",
       "         [ 0.0053,  0.0644,  0.0330]],\n",
       "\n",
       "        [[-0.0164, -0.0542,  0.0481],\n",
       "         [-0.0176, -0.0544,  0.0479],\n",
       "         [-0.0150, -0.0543,  0.0484],\n",
       "         [-0.0150, -0.0545,  0.0483],\n",
       "         [-0.0183, -0.0549,  0.0477],\n",
       "         [-0.0156, -0.0540,  0.0482],\n",
       "         [-0.0177, -0.0546,  0.0480],\n",
       "         [-0.0178, -0.0545,  0.0479],\n",
       "         [-0.0176, -0.0544,  0.0479],\n",
       "         [-0.0182, -0.0550,  0.0477],\n",
       "         [-0.0177, -0.0547,  0.0479],\n",
       "         [-0.0178, -0.0544,  0.0480],\n",
       "         [-0.0184, -0.0550,  0.0477],\n",
       "         [-0.0183, -0.0549,  0.0478],\n",
       "         [-0.0151, -0.0545,  0.0485],\n",
       "         [-0.0155, -0.0540,  0.0483],\n",
       "         [-0.0209, -0.0559,  0.0477],\n",
       "         [-0.0184, -0.0549,  0.0477],\n",
       "         [-0.0184, -0.0550,  0.0477],\n",
       "         [-0.0178, -0.0546,  0.0479],\n",
       "         [-0.0185, -0.0549,  0.0477],\n",
       "         [-0.0184, -0.0548,  0.0477],\n",
       "         [-0.0202, -0.0556,  0.0477],\n",
       "         [-0.0177, -0.0545,  0.0480]],\n",
       "\n",
       "        [[ 0.0665, -0.0043,  0.0110],\n",
       "         [ 0.0681, -0.0047,  0.0113],\n",
       "         [ 0.0639, -0.0029,  0.0103],\n",
       "         [ 0.0638, -0.0030,  0.0104],\n",
       "         [ 0.0689, -0.0050,  0.0114],\n",
       "         [ 0.0654, -0.0039,  0.0109],\n",
       "         [ 0.0683, -0.0046,  0.0114],\n",
       "         [ 0.0683, -0.0048,  0.0114],\n",
       "         [ 0.0681, -0.0047,  0.0114],\n",
       "         [ 0.0690, -0.0049,  0.0114],\n",
       "         [ 0.0683, -0.0047,  0.0115],\n",
       "         [ 0.0681, -0.0045,  0.0111],\n",
       "         [ 0.0690, -0.0049,  0.0114],\n",
       "         [ 0.0689, -0.0048,  0.0116],\n",
       "         [ 0.0638, -0.0029,  0.0103],\n",
       "         [ 0.0652, -0.0037,  0.0107],\n",
       "         [ 0.0711, -0.0055,  0.0117],\n",
       "         [ 0.0689, -0.0048,  0.0115],\n",
       "         [ 0.0690, -0.0049,  0.0115],\n",
       "         [ 0.0683, -0.0047,  0.0113],\n",
       "         [ 0.0689, -0.0050,  0.0115],\n",
       "         [ 0.0689, -0.0050,  0.0114],\n",
       "         [ 0.0707, -0.0054,  0.0116],\n",
       "         [ 0.0682, -0.0047,  0.0113]]], grad_fn=<StackBackward>)"
      ]
     },
     "execution_count": 24,
     "metadata": {},
     "output_type": "execute_result"
    }
   ],
   "source": [
    "model(img, speed.reshape(-1,1))"
   ]
  },
  {
   "cell_type": "code",
   "execution_count": null,
   "metadata": {},
   "outputs": [],
   "source": []
  },
  {
   "cell_type": "code",
   "execution_count": null,
   "metadata": {},
   "outputs": [],
   "source": []
  }
 ],
 "metadata": {
  "interpreter": {
   "hash": "2ac40ab2b83c7e2d81fc488f41ef50ed6d13063e2b1e045365cacea225799084"
  },
  "kernelspec": {
   "display_name": "Python 3.7.6 64-bit",
   "name": "python3"
  },
  "language_info": {
   "codemirror_mode": {
    "name": "ipython",
    "version": 3
   },
   "file_extension": ".py",
   "mimetype": "text/x-python",
   "name": "python",
   "nbconvert_exporter": "python",
   "pygments_lexer": "ipython3",
   "version": "3.7.6"
  },
  "orig_nbformat": 4
 },
 "nbformat": 4,
 "nbformat_minor": 2
}
